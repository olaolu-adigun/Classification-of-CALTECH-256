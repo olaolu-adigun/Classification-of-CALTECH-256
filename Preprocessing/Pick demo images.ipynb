{
 "cells": [
  {
   "cell_type": "markdown",
   "metadata": {},
   "source": [
    "## This part aim to pick some demo images.\n",
    "* The demo images set has 1699 images."
   ]
  },
  {
   "cell_type": "code",
   "execution_count": 1,
   "metadata": {},
   "outputs": [
    {
     "name": "stderr",
     "output_type": "stream",
     "text": [
      "/opt/conda/lib/python2.7/site-packages/h5py/__init__.py:36: FutureWarning: Conversion of the second argument of issubdtype from `float` to `np.floating` is deprecated. In future, it will be treated as `np.float64 == np.dtype(float).type`.\n",
      "  from ._conv import register_converters as _register_converters\n",
      "Using TensorFlow backend.\n"
     ]
    }
   ],
   "source": [
    "import keras\n",
    "from keras.applications import DenseNet121 #DenseNet121, DenseNet169, DenseNet201, ResNet50\n",
    "from keras.models import Model\n",
    "from keras.layers import Dense\n",
    "from keras.regularizers import l2\n",
    "import numpy as np\n",
    "import matplotlib.pyplot as plt\n",
    "from label_dict import label_dict"
   ]
  },
  {
   "cell_type": "code",
   "execution_count": 2,
   "metadata": {},
   "outputs": [],
   "source": [
    "#Build the new model based on DenseNet121\n",
    "def getmodel(num_classes=256):\n",
    "    '''\n",
    "    Build the new model based on DenseNet121, DenseNet169, DenseNet201\n",
    "    \n",
    "    Argument:\n",
    "    num_classes -- (int) number of classes\n",
    "    \n",
    "    Return:\n",
    "    model -- the new compiled model\n",
    "    '''\n",
    "    \n",
    "    orig_model = DenseNet121(include_top=False, weights='imagenet', pooling='avg', classes=num_classes)\n",
    "    densenet_out = orig_model.layers[-1].output\n",
    "    out = Dense(256, activation='softmax', kernel_initializer='glorot_uniform')(densenet_out)\n",
    "    model = Model(input=orig_model.input, output=out)\n",
    "    model.compile(loss= \"sparse_categorical_crossentropy\", optimizer=\"adam\", metrics=[\"accuracy\"])\n",
    "\n",
    "    return model"
   ]
  },
  {
   "cell_type": "code",
   "execution_count": 3,
   "metadata": {},
   "outputs": [
    {
     "name": "stderr",
     "output_type": "stream",
     "text": [
      "/opt/conda/lib/python2.7/site-packages/ipykernel_launcher.py:16: UserWarning: Update your `Model` call to the Keras 2 API: `Model(outputs=Tensor(\"de..., inputs=Tensor(\"in...)`\n",
      "  app.launch_new_instance()\n"
     ]
    }
   ],
   "source": [
    "model = getmodel(256)"
   ]
  },
  {
   "cell_type": "code",
   "execution_count": 4,
   "metadata": {},
   "outputs": [],
   "source": [
    "#Import test dataset\n",
    "X_test = np.load('test_resize_221.npy')/225.\n",
    "y_test = np.load('test.npy')"
   ]
  },
  {
   "cell_type": "code",
   "execution_count": 5,
   "metadata": {},
   "outputs": [],
   "source": [
    "model.load_weights('DenseNet121_transfer.hdf5')"
   ]
  },
  {
   "cell_type": "code",
   "execution_count": 6,
   "metadata": {},
   "outputs": [
    {
     "name": "stdout",
     "output_type": "stream",
     "text": [
      "5956/5956 [==============================] - 31s 5ms/step\n",
      "()\n",
      "Loss = 2.684517687643191\n",
      "Test Accuracy = 0.6121558092679651\n"
     ]
    }
   ],
   "source": [
    "#evaluate\n",
    "eva = model.evaluate(X_test, y_test[:, 0], batch_size=32, verbose=1, sample_weight=None)\n",
    "print()\n",
    "print(\"Loss = \" + str(eva[0]))\n",
    "print(\"Test Accuracy = \" + str(eva[1]))"
   ]
  },
  {
   "cell_type": "code",
   "execution_count": 7,
   "metadata": {},
   "outputs": [],
   "source": [
    "index = np.max(model.predict(X_test), axis=1, keepdims=True) >= 0.9999"
   ]
  },
  {
   "cell_type": "code",
   "execution_count": 8,
   "metadata": {},
   "outputs": [],
   "source": [
    "X_test = np.load('test_resize_221.npy')"
   ]
  },
  {
   "cell_type": "code",
   "execution_count": 9,
   "metadata": {},
   "outputs": [],
   "source": [
    "demo_img = X_test[index.T.tolist()[0]]\n",
    "demo_label = y_test[:, 0][index.T.tolist()[0]]"
   ]
  },
  {
   "cell_type": "code",
   "execution_count": 10,
   "metadata": {},
   "outputs": [
    {
     "name": "stdout",
     "output_type": "stream",
     "text": [
      "The number of demo images is: 1699\n"
     ]
    }
   ],
   "source": [
    "print('The number of demo images is: '+str(demo_img.shape[0]))"
   ]
  },
  {
   "cell_type": "code",
   "execution_count": 11,
   "metadata": {},
   "outputs": [],
   "source": [
    "np.save('demo_img.npy', demo_img)\n",
    "np.save('demo_label.npy', demo_label)"
   ]
  },
  {
   "cell_type": "code",
   "execution_count": null,
   "metadata": {},
   "outputs": [],
   "source": []
  }
 ],
 "metadata": {
  "kernelspec": {
   "display_name": "Python 2",
   "language": "python",
   "name": "python2"
  },
  "language_info": {
   "codemirror_mode": {
    "name": "ipython",
    "version": 2
   },
   "file_extension": ".py",
   "mimetype": "text/x-python",
   "name": "python",
   "nbconvert_exporter": "python",
   "pygments_lexer": "ipython2",
   "version": "2.7.14"
  }
 },
 "nbformat": 4,
 "nbformat_minor": 2
}
