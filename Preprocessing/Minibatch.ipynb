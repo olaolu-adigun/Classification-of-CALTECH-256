{
 "cells": [
  {
   "cell_type": "code",
   "execution_count": 4,
   "metadata": {},
   "outputs": [],
   "source": [
    "import numpy as np\n",
    "import cv2\n",
    "import matplotlib.pyplot as plt\n",
    "import math"
   ]
  },
  {
   "cell_type": "code",
   "execution_count": 5,
   "metadata": {},
   "outputs": [],
   "source": [
    "def mini_batch(X, minibatch_size = 64, seed = 0):\n",
    "    '''\n",
    "    Create a list of random minibatch. (import numpy and math)\n",
    "    \n",
    "    Arguments:\n",
    "    X -- It is a numpy array (labels, np.array, ...)\n",
    "    minibatch_size -- decide the size of every mini-batch\n",
    "    \n",
    "    Returns:\n",
    "    mini_batches -- numpy array: [[(np.array, ...), (label, ...)], ...]\n",
    "    '''\n",
    "    np.random.seed(seed)\n",
    "    m = X.shape[0]\n",
    "    mini_batches = []\n",
    "    \n",
    "    #shuffle X\n",
    "    X = np.random.permutation(X)\n",
    "    \n",
    "    #partition\n",
    "    num_complete_batches = int(math.floor(m/minibatch_size))\n",
    "    \n",
    "    for k in range(num_complete_batches):\n",
    "        mini_batch = X[k*minibatch_size:(k+1)*minibatch_size]\n",
    "        mini_batch_x = mini_batch[:, 1]\n",
    "        mini_batch_y = mini_batch[:, 0]\n",
    "        mini_batches.append((mini_batch_x, mini_batch_y))\n",
    "    \n",
    "    #append the last minibatch\n",
    "    if m%minibatch_size != 0:\n",
    "        mini_batch = X[num_complete_batches*minibatch_size:]\n",
    "        mini_batch_x = mini_batch[:, 1]\n",
    "        mini_batch_y = mini_batch[:, 0]\n",
    "        mini_batches.append((mini_batch_x, mini_batch_y))\n",
    "        \n",
    "    return mini_batches"
   ]
  },
  {
   "cell_type": "code",
   "execution_count": 11,
   "metadata": {},
   "outputs": [],
   "source": [
    "test = np.load('test.npy')\n",
    "mini = mini_batch(test)"
   ]
  },
  {
   "cell_type": "code",
   "execution_count": 16,
   "metadata": {},
   "outputs": [
    {
     "data": {
      "text/plain": [
       "array([198, 240, 29, 238, 253, 8, 150, 44, 141, 158, 120, 25, 90, 145, 96,\n",
       "       3, 202, 7, 160, 218, 140, 121, 74, 238, 203, 49, 128, 106, 121, 31,\n",
       "       204, 253, 75, 64, 138, 185, 166, 153, 184, 127, 153, 168, 90, 211,\n",
       "       15, 145, 29, 223, 105, 250, 88, 203, 179, 170, 56, 40, 51, 145, 72,\n",
       "       251, 112, 109, 135, 191], dtype=object)"
      ]
     },
     "execution_count": 16,
     "metadata": {},
     "output_type": "execute_result"
    }
   ],
   "source": [
    "mini[1][1]"
   ]
  },
  {
   "cell_type": "code",
   "execution_count": null,
   "metadata": {},
   "outputs": [],
   "source": []
  }
 ],
 "metadata": {
  "kernelspec": {
   "display_name": "Python 2",
   "language": "python",
   "name": "python2"
  },
  "language_info": {
   "codemirror_mode": {
    "name": "ipython",
    "version": 2
   },
   "file_extension": ".py",
   "mimetype": "text/x-python",
   "name": "python",
   "nbconvert_exporter": "python",
   "pygments_lexer": "ipython2",
   "version": "2.7.14"
  }
 },
 "nbformat": 4,
 "nbformat_minor": 2
}
