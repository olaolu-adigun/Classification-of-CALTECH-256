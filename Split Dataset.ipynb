{
 "cells": [
  {
   "cell_type": "code",
   "execution_count": 1,
   "metadata": {},
   "outputs": [],
   "source": [
    "def split_data(X, valid_size = 0.2, test_size = 0.2, seed = 1):\n",
    "    '''\n",
    "    This function aim to split the dataset into training set, validation set and test set. (import numpy, math)\n",
    "    \n",
    "    Arguments:\n",
    "    X -- \n",
    "    valid_size --\n",
    "    test_size --\n",
    "    seed --\n",
    "    \n",
    "    Returns:\n",
    "    train --\n",
    "    valid --\n",
    "    test  --\n",
    "    '''\n",
    "    np.random.seed(seed)\n",
    "    m = X.shape[0]\n",
    "    valid_size = int(math.floor(m*valid_size))\n",
    "    test_size = int(math.floor(m*test_size))\n",
    "    train_size = m - valid_size -test_size\n",
    "    X = np.random.permutation(X)\n",
    "    train = X[:train_size]\n",
    "    valid = X[train_size:train_size + valid_size]\n",
    "    test = X[train_size + valid_size:]\n",
    "    \n",
    "    return train, valid, test"
   ]
  },
  {
   "cell_type": "code",
   "execution_count": 2,
   "metadata": {},
   "outputs": [],
   "source": [
    "import numpy as np\n",
    "import math\n",
    "x = np.load('orig_data.npy')\n",
    "train, valid, test = split_data(x, 0, 0.2)"
   ]
  },
  {
   "cell_type": "code",
   "execution_count": 3,
   "metadata": {},
   "outputs": [
    {
     "name": "stdout",
     "output_type": "stream",
     "text": [
      "((29780, 2), (23824, 2), (0, 2), (5956, 2), 29780)\n"
     ]
    }
   ],
   "source": [
    "print(x.shape, train.shape, valid.shape, test.shape, train.shape[0]+valid.shape[0]+test.shape[0])"
   ]
  },
  {
   "cell_type": "code",
   "execution_count": 4,
   "metadata": {},
   "outputs": [],
   "source": [
    "np.save('train.npy', train)\n",
    "np.save('test.npy', test)"
   ]
  },
  {
   "cell_type": "code",
   "execution_count": 4,
   "metadata": {},
   "outputs": [
    {
     "data": {
      "text/plain": [
       "(5956, 2)"
      ]
     },
     "execution_count": 4,
     "metadata": {},
     "output_type": "execute_result"
    }
   ],
   "source": [
    "import numpy as np\n",
    "a = np.load('test.npy')\n",
    "a.shape"
   ]
  },
  {
   "cell_type": "code",
   "execution_count": 3,
   "metadata": {},
   "outputs": [
    {
     "data": {
      "text/plain": [
       "(2,)"
      ]
     },
     "execution_count": 3,
     "metadata": {},
     "output_type": "execute_result"
    }
   ],
   "source": [
    "a[1].shape"
   ]
  },
  {
   "cell_type": "code",
   "execution_count": null,
   "metadata": {},
   "outputs": [],
   "source": []
  }
 ],
 "metadata": {
  "kernelspec": {
   "display_name": "Python 2",
   "language": "python",
   "name": "python2"
  },
  "language_info": {
   "codemirror_mode": {
    "name": "ipython",
    "version": 2
   },
   "file_extension": ".py",
   "mimetype": "text/x-python",
   "name": "python",
   "nbconvert_exporter": "python",
   "pygments_lexer": "ipython2",
   "version": "2.7.14"
  }
 },
 "nbformat": 4,
 "nbformat_minor": 2
}
