{
 "cells": [
  {
   "cell_type": "code",
   "execution_count": 1,
   "metadata": {},
   "outputs": [
    {
     "name": "stderr",
     "output_type": "stream",
     "text": [
      "/opt/conda/lib/python2.7/site-packages/h5py/__init__.py:36: FutureWarning: Conversion of the second argument of issubdtype from `float` to `np.floating` is deprecated. In future, it will be treated as `np.float64 == np.dtype(float).type`.\n",
      "  from ._conv import register_converters as _register_converters\n",
      "Using TensorFlow backend.\n"
     ]
    }
   ],
   "source": [
    "import keras\n",
    "from keras.applications import DenseNet121 #DenseNet121, DenseNet169, DenseNet201, ResNet50\n",
    "from keras.models import Model\n",
    "from keras.layers import Dense\n",
    "from keras.regularizers import l2\n",
    "import numpy as np\n",
    "import matplotlib.pyplot as plt\n",
    "from label_dict import label_dict"
   ]
  },
  {
   "cell_type": "code",
   "execution_count": 2,
   "metadata": {},
   "outputs": [],
   "source": [
    "#Build the new model based on DenseNet121\n",
    "def getmodel(num_classes=256):\n",
    "    '''\n",
    "    Build the new model based on DenseNet121, DenseNet169, DenseNet201\n",
    "    \n",
    "    Argument:\n",
    "    num_classes -- (int) number of classes\n",
    "    \n",
    "    Return:\n",
    "    model -- the new compiled model\n",
    "    '''\n",
    "    \n",
    "    orig_model = DenseNet121(include_top=False, weights='imagenet', pooling='avg', classes=num_classes)\n",
    "    densenet_out = orig_model.layers[-1].output\n",
    "    out = Dense(256, activation='softmax', kernel_initializer='glorot_uniform')(densenet_out)\n",
    "    model = Model(input=orig_model.input, output=out)\n",
    "    model.compile(loss= \"sparse_categorical_crossentropy\", optimizer=\"adam\", metrics=[\"accuracy\"])\n",
    "\n",
    "    return model"
   ]
  },
  {
   "cell_type": "code",
   "execution_count": 3,
   "metadata": {},
   "outputs": [
    {
     "name": "stderr",
     "output_type": "stream",
     "text": [
      "/opt/conda/lib/python2.7/site-packages/ipykernel_launcher.py:16: UserWarning: Update your `Model` call to the Keras 2 API: `Model(outputs=Tensor(\"de..., inputs=Tensor(\"in...)`\n",
      "  app.launch_new_instance()\n"
     ]
    }
   ],
   "source": [
    "model = getmodel(256)"
   ]
  },
  {
   "cell_type": "code",
   "execution_count": 4,
   "metadata": {},
   "outputs": [],
   "source": [
    "#Import test dataset\n",
    "X_test = np.load('test_resize_221.npy')/255.\n",
    "y_test = np.load('test.npy')[:, 0]"
   ]
  },
  {
   "cell_type": "code",
   "execution_count": 5,
   "metadata": {},
   "outputs": [],
   "source": [
    "model.load_weights('DenseNet121_transfer.hdf5')"
   ]
  },
  {
   "cell_type": "code",
   "execution_count": 6,
   "metadata": {},
   "outputs": [],
   "source": [
    "x = np.load('orig_data.npy')"
   ]
  },
  {
   "cell_type": "code",
   "execution_count": 10,
   "metadata": {},
   "outputs": [],
   "source": [
    "eve_class_img = np.zeros((256,1))\n",
    "\n",
    "for i in range(x[:,0].shape[0]):\n",
    "    eve_class_img[x[:,0][i]] += 1"
   ]
  },
  {
   "cell_type": "code",
   "execution_count": 12,
   "metadata": {},
   "outputs": [],
   "source": [
    "ratio = eve_class_img/x.shape[0]"
   ]
  },
  {
   "cell_type": "code",
   "execution_count": 14,
   "metadata": {},
   "outputs": [
    {
     "name": "stdout",
     "output_type": "stream",
     "text": [
      "The test accuracy is: 61.37%\n"
     ]
    }
   ],
   "source": [
    "pred = model.predict(X_test)\n",
    "max_prob = np.max(pred, axis=1, keepdims=True)\n",
    "index = np.where(pred == max_prob)[1]\n",
    "num_correct_pred = np.count_nonzero(index == y_test)\n",
    "\n",
    "print('The test accuracy is: %.2f' % (num_correct_pred/float(X_test.shape[0])*100) + '%')"
   ]
  },
  {
   "cell_type": "code",
   "execution_count": 15,
   "metadata": {},
   "outputs": [],
   "source": [
    "acc_class = np.zeros((256,1))\n",
    "\n",
    "for i in range(y_test.shape[0]):\n",
    "    if index[i] == y_test[i]:\n",
    "        acc_class[y_test[i]] += 1"
   ]
  },
  {
   "cell_type": "code",
   "execution_count": 17,
   "metadata": {},
   "outputs": [],
   "source": [
    "acc_per_class = acc_class/eve_class_img"
   ]
  },
  {
   "cell_type": "code",
   "execution_count": 20,
   "metadata": {},
   "outputs": [],
   "source": [
    "a = np.hstack((eve_class_img, acc_per_class))"
   ]
  },
  {
   "cell_type": "code",
   "execution_count": 56,
   "metadata": {},
   "outputs": [
    {
     "data": {
      "image/png": "[encoded data removed]",
      "text/plain": [
       "<Figure size 432x288 with 1 Axes>"
      ]
     },
     "metadata": {},
     "output_type": "display_data"
    }
   ],
   "source": [
    "plt.scatter(a[:,0], a[:,1], s = 20, color='red', marker='o')\n",
    "plt.ylabel('Accuracy', size = 20)\n",
    "plt.xlabel('Number of images per classes', size = 20)\n",
    "plt.yticks(size = 16)\n",
    "plt.xticks(size=16)\n",
    "plt.axis('auto')\n",
    "plt.show()"
   ]
  },
  {
   "cell_type": "code",
   "execution_count": null,
   "metadata": {},
   "outputs": [],
   "source": []
  }
 ],
 "metadata": {
  "kernelspec": {
   "display_name": "Python 2",
   "language": "python",
   "name": "python2"
  },
  "language_info": {
   "codemirror_mode": {
    "name": "ipython",
    "version": 2
   },
   "file_extension": ".py",
   "mimetype": "text/x-python",
   "name": "python",
   "nbconvert_exporter": "python",
   "pygments_lexer": "ipython2",
   "version": "2.7.14"
  }
 },
 "nbformat": 4,
 "nbformat_minor": 2
}
